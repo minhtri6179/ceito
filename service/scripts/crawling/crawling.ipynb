{
 "cells": [
  {
   "cell_type": "code",
   "execution_count": 14,
   "id": "459ac3b8-31b0-4219-a849-a227848e97e1",
   "metadata": {},
   "outputs": [],
   "source": [
    "from selenium import webdriver\n",
    "import pickle\n",
    "from selenium.webdriver.common.by import By\n",
    "import pandas as pd\n",
    "import time"
   ]
  },
  {
   "cell_type": "code",
   "execution_count": 15,
   "id": "5abf463e-f64d-440f-8863-592440650ffc",
   "metadata": {},
   "outputs": [],
   "source": [
    "\n",
    "def save_cookie(driver):\n",
    "    with open(\"cookie\", 'wb') as filehandler:\n",
    "        pickle.dump(driver.get_cookies(), filehandler)\n",
    "def load_cookie(driver):\n",
    "     with open(\"cookie\", 'rb') as cookiesfile:\n",
    "         cookies = pickle.load(cookiesfile)\n",
    "         for cookie in cookies:\n",
    "             print(cookie)\n",
    "             driver.add_cookie(cookie)\n"
   ]
  },
  {
   "cell_type": "code",
   "execution_count": 23,
   "id": "4f8b8e4e-4b18-48fd-b0b8-c9815e5a7631",
   "metadata": {},
   "outputs": [],
   "source": [
    "driver = webdriver.Chrome()"
   ]
  },
  {
   "cell_type": "code",
   "execution_count": 24,
   "id": "1b0885e3-b7d2-4e39-ae1d-337ec940f358",
   "metadata": {},
   "outputs": [],
   "source": [
    "driver.get(\"https://study4.com/tests/4590/ets-23-toeic-test-1/practice/?part=9773&part=9774&part=9775&part=9776&part=9777&part=9778&part=9779\")\n"
   ]
  },
  {
   "cell_type": "code",
   "execution_count": 26,
   "id": "d5f85095-684f-41b1-85c9-2f2ea3389b61",
   "metadata": {},
   "outputs": [],
   "source": [
    "driver.add_cookie({\"name\": \"sessionid\", \"value\": \"enuahhni1nzhwklu1geawox96uaqoece\"})\n"
   ]
  },
  {
   "cell_type": "code",
   "execution_count": null,
   "id": "20cfcc53-84c2-400c-9b26-329d90119d36",
   "metadata": {},
   "outputs": [],
   "source": [
    "driver.get(\"https://study4.com/tests/4590/ets-23-toeic-test-1/practice/?part=9773&part=9774&part=9775&part=9776&part=9777&part=9778&part=9779\")\n"
   ]
  },
  {
   "cell_type": "code",
   "execution_count": 28,
   "id": "b3335a8c-2ae2-42ca-a8bb-cdb3de2000b6",
   "metadata": {},
   "outputs": [],
   "source": [
    "test1part5 = driver.find_element(by=By.XPATH, value=\"//*[@id='partcontent-9777']/div[2]\")\n",
    "test1part7 = driver.find_element(by=By.XPATH, value=\"//*[@id='partcontent-9779']/div[2]\")"
   ]
  },
  {
   "cell_type": "code",
   "execution_count": 29,
   "id": "91837355-ca2a-4859-a3f2-0a91bc823188",
   "metadata": {},
   "outputs": [],
   "source": [
    "children5 = test1part5.find_elements(By.XPATH, '*')\n",
    "children7 = test1part7.find_elements(By.XPATH, '*')"
   ]
  },
  {
   "cell_type": "code",
   "execution_count": 31,
   "id": "cea7f176-d728-41d0-9ae3-95976c48c5a4",
   "metadata": {},
   "outputs": [
    {
     "data": {
      "text/plain": [
       "'147\\nWhat is indicated about Harbis Stationery Store?\\nA. It provides materials for students.\\nB. It has stores in multiple locations.\\nC. It is celebrating an anniversary.\\nD. It provides free shipping for online orders.\\n148\\nWhat item is discounted by the greatest percentage?\\nA. Box of ten cards.\\nB. Box of five invitations.\\nC. Wireless mouse.\\nD. Desk lamp.'"
      ]
     },
     "execution_count": 31,
     "metadata": {},
     "output_type": "execute_result"
    }
   ],
   "source": [
    "res = []\n",
    "for child in children7:\n",
    "    res.append(child.text)\n",
    "res[0]"
   ]
  },
  {
   "cell_type": "code",
   "execution_count": 69,
   "id": "684924ce-a8d6-4072-a411-1b2ca3ce5f97",
   "metadata": {},
   "outputs": [
    {
     "data": {
      "text/plain": [
       "['101',\n",
       " 'When she held her last meeting, Ms. Toba ------- her sales staff to perform even better next quarter.',\n",
       " 'A. encourage',\n",
       " 'B. is encouraging',\n",
       " 'C. encouraged',\n",
       " 'D. was encouraged']"
      ]
     },
     "execution_count": 69,
     "metadata": {},
     "output_type": "execute_result"
    }
   ],
   "source": [
    "res[1].split('\\n')"
   ]
  },
  {
   "cell_type": "code",
   "execution_count": 87,
   "id": "7c3d8f36-9e9a-42dc-bf49-4d1499d38b1d",
   "metadata": {},
   "outputs": [],
   "source": [
    "def part5():\n",
    "    data = {}\n",
    "    idx = []\n",
    "    question = []\n",
    "    answers = []\n",
    "    nu = []\n",
    "    for row in res:\n",
    "        curRow = row.split('\\n')\n",
    "        if len(curRow) == 6:\n",
    "            idx.append(curRow[0])\n",
    "            question.append(curRow[1])\n",
    "            for i in range(4):\n",
    "                if i != 0:\n",
    "                    idx.append('')\n",
    "                    question.append('')\n",
    "                answers.append(curRow[2+i])\n",
    "                nu.append('')\n",
    "    data = {'Question_id': idx, 'Question_text': question, 'Test_name(ETS23-Test1)':nu,'Answer_id':nu, 'Answer_text': answers, 'isTrue':nu}\n",
    "    df = pd.DataFrame(data).reset_index(drop=True)\n",
    "    \n",
    "    df.to_csv(\"part5.csv\", index=False)\n"
   ]
  },
  {
   "cell_type": "code",
   "execution_count": 82,
   "id": "3c61228c-2b6a-4915-b29d-c6bf1745f282",
   "metadata": {},
   "outputs": [
    {
     "data": {
      "text/html": [
       "<div>\n",
       "<style scoped>\n",
       "    .dataframe tbody tr th:only-of-type {\n",
       "        vertical-align: middle;\n",
       "    }\n",
       "\n",
       "    .dataframe tbody tr th {\n",
       "        vertical-align: top;\n",
       "    }\n",
       "\n",
       "    .dataframe thead th {\n",
       "        text-align: right;\n",
       "    }\n",
       "</style>\n",
       "<table border=\"1\" class=\"dataframe\">\n",
       "  <thead>\n",
       "    <tr style=\"text-align: right;\">\n",
       "      <th></th>\n",
       "      <th>idx</th>\n",
       "      <th>questions</th>\n",
       "      <th>answers</th>\n",
       "    </tr>\n",
       "  </thead>\n",
       "  <tbody>\n",
       "    <tr>\n",
       "      <th>0</th>\n",
       "      <td>101</td>\n",
       "      <td>When she held her last meeting, Ms. Toba -----...</td>\n",
       "      <td>A. encourage</td>\n",
       "    </tr>\n",
       "    <tr>\n",
       "      <th>1</th>\n",
       "      <td>101</td>\n",
       "      <td>When she held her last meeting, Ms. Toba -----...</td>\n",
       "      <td>B. is encouraging</td>\n",
       "    </tr>\n",
       "    <tr>\n",
       "      <th>2</th>\n",
       "      <td>101</td>\n",
       "      <td>When she held her last meeting, Ms. Toba -----...</td>\n",
       "      <td>C. encouraged</td>\n",
       "    </tr>\n",
       "    <tr>\n",
       "      <th>3</th>\n",
       "      <td>101</td>\n",
       "      <td>When she held her last meeting, Ms. Toba -----...</td>\n",
       "      <td>D. was encouraged</td>\n",
       "    </tr>\n",
       "    <tr>\n",
       "      <th>4</th>\n",
       "      <td>102</td>\n",
       "      <td>All staff have been informed ------- the propo...</td>\n",
       "      <td>A. for</td>\n",
       "    </tr>\n",
       "  </tbody>\n",
       "</table>\n",
       "</div>"
      ],
      "text/plain": [
       "   idx                                          questions            answers\n",
       "0  101  When she held her last meeting, Ms. Toba -----...       A. encourage\n",
       "1  101  When she held her last meeting, Ms. Toba -----...  B. is encouraging\n",
       "2  101  When she held her last meeting, Ms. Toba -----...      C. encouraged\n",
       "3  101  When she held her last meeting, Ms. Toba -----...  D. was encouraged\n",
       "4  102  All staff have been informed ------- the propo...             A. for"
      ]
     },
     "execution_count": 82,
     "metadata": {},
     "output_type": "execute_result"
    }
   ],
   "source": [
    "df.head()"
   ]
  },
  {
   "cell_type": "code",
   "execution_count": null,
   "id": "973f70df-1cd6-42bd-b992-48a23ed4d379",
   "metadata": {},
   "outputs": [],
   "source": [
    "driver.quit()"
   ]
  }
 ],
 "metadata": {
  "kernelspec": {
   "display_name": "Python 3 (ipykernel)",
   "language": "python",
   "name": "python3"
  },
  "language_info": {
   "codemirror_mode": {
    "name": "ipython",
    "version": 3
   },
   "file_extension": ".py",
   "mimetype": "text/x-python",
   "name": "python",
   "nbconvert_exporter": "python",
   "pygments_lexer": "ipython3",
   "version": "3.11.4"
  }
 },
 "nbformat": 4,
 "nbformat_minor": 5
}
